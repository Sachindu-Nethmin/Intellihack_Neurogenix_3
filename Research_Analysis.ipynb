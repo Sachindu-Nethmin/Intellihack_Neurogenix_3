{
 "cells": [
  {
   "cell_type": "markdown",
   "metadata": {},
   "source": [
    "# AI Research Paper Analysis\n",
    "\n",
    "This notebook analyzes and processes the research papers dataset for LLM fine-tuning.\n",
    "\n",
    "## 1. Setup and Imports"
   ]
  },
  {
   "cell_type": "code",
   "execution_count": 1,
   "metadata": {},
   "outputs": [],
   "source": [
    "import pandas as pd\n",
    "import numpy as np\n",
    "import matplotlib.pyplot as plt\n",
    "import seaborn as sns\n",
    "from pathlib import Path\n",
    "\n",
    "%matplotlib inline\n",
    "plt.style.use('seaborn-v0_8')\n",
    "plt.rcParams.update({\n",
    "    'figure.figsize': (12, 8),\n",
    "    'axes.grid': True\n",
    "})"
   ]
  },
  {
   "cell_type": "markdown",
   "metadata": {},
   "source": [
    "## 2. Load and Process Research Papers"
   ]
  },
  {
   "cell_type": "code",
   "execution_count": 3,
   "metadata": {},
   "outputs": [
    {
     "name": "stdout",
     "output_type": "stream",
     "text": [
      "Found 13 major sections\n",
      "\n",
      "Section 1: DualPipe\n",
      "\n",
      "Section 2: About\n",
      "\n",
      "Section 3: Profiling Data in DeepSeek Infra\n",
      "\n",
      "Section 4: Training\n",
      "\n",
      "Section 5: Inference\n",
      "\n",
      "Section 6: Prefilling\n",
      "\n",
      "Section 7: Decoding\n",
      "\n",
      "Section 8: Expert Parallelism Load Balancer (EPLB)\n",
      "\n",
      "Section 9: The Algorithm\n",
      "\n",
      "Section 10: Hierarchical Load Balancing\n",
      "\n",
      "Section 11: Global Load Balancing\n",
      "\n",
      "Section 12: Fire-Flyer File system\n",
      "\n",
      "Section 13: Performance\n"
     ]
    }
   ],
   "source": [
    "def read_markdown_file(file_path):\n",
    "    with open(file_path, 'r', encoding='utf-8') as f:\n",
    "        content = f.read()\n",
    "    return content\n",
    "\n",
    "# Read the dataset\n",
    "file_path = Path('d:/works/intellihack5.0/task3/q3_dataset/dataset.md')\n",
    "content = read_markdown_file(file_path)\n",
    "\n",
    "# Split into sections\n",
    "sections = content.split('#')\n",
    "sections = [s.strip() for s in sections if s.strip()]\n",
    "\n",
    "print(f\"Found {len(sections)} major sections\")\n",
    "for i, section in enumerate(sections, 1):\n",
    "    print(f\"\\nSection {i}: {section.split('\\n')[0]}\")"
   ]
  },
  {
   "cell_type": "markdown",
   "metadata": {},
   "source": [
    "## 3. Extract Topics and Concepts"
   ]
  },
  {
   "cell_type": "code",
   "execution_count": 4,
   "metadata": {},
   "outputs": [
    {
     "name": "stdout",
     "output_type": "stream",
     "text": [
      "\n",
      "Text Statistics:\n",
      "count     32.000000\n",
      "mean      37.750000\n",
      "std       32.577451\n",
      "min        1.000000\n",
      "25%        4.000000\n",
      "50%       40.500000\n",
      "75%       68.250000\n",
      "max      100.000000\n",
      "Name: length, dtype: float64\n"
     ]
    }
   ],
   "source": [
    "def extract_key_concepts(text):\n",
    "    # Split into paragraphs\n",
    "    paragraphs = [p.strip() for p in text.split('\\n\\n') if p.strip()]\n",
    "    \n",
    "    # Create a DataFrame\n",
    "    df = pd.DataFrame({\n",
    "        'text': paragraphs,\n",
    "        'length': [len(p.split()) for p in paragraphs]\n",
    "    })\n",
    "    \n",
    "    return df\n",
    "\n",
    "# Process each section\n",
    "all_concepts = []\n",
    "for section in sections:\n",
    "    concepts = extract_key_concepts(section)\n",
    "    all_concepts.append(concepts)\n",
    "\n",
    "# Combine results\n",
    "df_concepts = pd.concat(all_concepts).reset_index(drop=True)\n",
    "print(\"\\nText Statistics:\")\n",
    "print(df_concepts['length'].describe())"
   ]
  },
  {
   "cell_type": "markdown",
   "metadata": {},
   "source": [
    "## 4. Visualize Text Distribution"
   ]
  },
  {
   "cell_type": "code",
   "execution_count": 5,
   "metadata": {},
   "outputs": [
    {
     "data": {
      "image/png": "[encoded data removed]",
      "text/plain": [
       "<Figure size 1200x600 with 1 Axes>"
      ]
     },
     "metadata": {},
     "output_type": "display_data"
    }
   ],
   "source": [
    "# Plot paragraph length distribution\n",
    "plt.figure(figsize=(12, 6))\n",
    "sns.histplot(data=df_concepts, x='length', bins=30)\n",
    "plt.title('Distribution of Paragraph Lengths')\n",
    "plt.xlabel('Words per Paragraph')\n",
    "plt.ylabel('Count')\n",
    "plt.show()"
   ]
  },
  {
   "cell_type": "markdown",
   "metadata": {},
   "source": [
    "## 5. Generate Training Examples"
   ]
  },
  {
   "cell_type": "code",
   "execution_count": 6,
   "metadata": {},
   "outputs": [
    {
     "name": "stdout",
     "output_type": "stream",
     "text": [
      "Generated 13 training examples\n",
      "\n",
      "Example format:\n",
      "{'instruction': 'Answer the following question about AI research:', 'input': 'Profiling Data in DeepSeek Infra\\nHere, we publicly share profiling data from our training and inference framework to help the community better understand the communication-computation overlap strategies and low-level implementation details. The profiling data was captured using the PyTorch Profiler. After downloading, you can visualize it directly by navigating to chrome://tracing in the Chrome browser (or edge://tracing in the Edge browser). Notice that we simulate an absolutely balanced MoE ro', 'output': 'Based on the provided text...'}\n"
     ]
    }
   ],
   "source": [
    "def generate_qa_pair(text):\n",
    "    # Structure for training example\n",
    "    example = {\n",
    "        \"instruction\": \"Answer the following question about AI research:\",\n",
    "        \"input\": text[:500],  # Limit context length\n",
    "        \"output\": \"Based on the provided text...\"\n",
    "    }\n",
    "    return example\n",
    "\n",
    "# Generate examples from longer paragraphs\n",
    "training_examples = []\n",
    "for text in df_concepts[df_concepts['length'] > 50]['text']:\n",
    "    example = generate_qa_pair(text)\n",
    "    training_examples.append(example)\n",
    "\n",
    "print(f\"Generated {len(training_examples)} training examples\")\n",
    "print(\"\\nExample format:\")\n",
    "print(training_examples[0])"
   ]
  },
  {
   "cell_type": "markdown",
   "metadata": {},
   "source": [
    "## 6. Save Processed Dataset"
   ]
  },
  {
   "cell_type": "code",
   "execution_count": 7,
   "metadata": {},
   "outputs": [
    {
     "name": "stdout",
     "output_type": "stream",
     "text": [
      "Saved 13 examples to data\\processed\\training_data.json\n"
     ]
    }
   ],
   "source": [
    "import json\n",
    "\n",
    "# Save as JSON\n",
    "output_path = Path('data/processed/training_data.json')\n",
    "output_path.parent.mkdir(parents=True, exist_ok=True)\n",
    "\n",
    "with open(output_path, 'w', encoding='utf-8') as f:\n",
    "    json.dump(training_examples, f, indent=2)\n",
    "\n",
    "print(f\"Saved {len(training_examples)} examples to {output_path}\")"
   ]
  }
 ],
 "metadata": {
  "kernelspec": {
   "display_name": "tf",
   "language": "python",
   "name": "tf"
  },
  "language_info": {
   "codemirror_mode": {
    "name": "ipython",
    "version": 3
   },
   "file_extension": ".py",
   "mimetype": "text/x-python",
   "name": "python",
   "nbconvert_exporter": "python",
   "pygments_lexer": "ipython3",
   "version": "3.12.3"
  }
 },
 "nbformat": 4,
 "nbformat_minor": 4
}
